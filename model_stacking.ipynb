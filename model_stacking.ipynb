{
 "cells": [
  {
   "cell_type": "markdown",
   "id": "81c18b72",
   "metadata": {},
   "source": [
    "# Stacking\n",
    "\n",
    "For: NEIL HEINRICH BRAUN\n",
    "\n",
    "The idea for this file is to train a lightGBM model (or other models) for stacking. The data files you will need to import is unfortunately not ready. For now, imagine a file in the following format\n",
    "\n",
    "| ticker | quarter_year  | actual_log_rev| actual_car | log_revenue_prediction_1 | CAR_prediction_1 | log_revenue_prediction_2 | CAR_prediction_2 |\n",
    "|--------|---------------|---------------|------------|--------------------------|------------------|--------------------------|------------------|\n",
    "| BAC    | Q1 2001       |123            |0.4         | 123                      | 0.5              | 123                      | 0.5              |\n",
    "| JPM    | Q1 2001       |123            |0.4         | 456                      | 0.8              | 456                      | 0.8              |\n",
    "| WFC    | Q1 2001       |123            |0.4         | 789                      | 0.25             | 789                      | 0.25             |\n",
    "\n",
    "There will be more columns where each column will be the prediction from each previous model for each y value.\n",
    "\n",
    "You will need to train at least 2 models for stacking. 1 for each y value. Of course try other things outside of LightGBM as well but I suspect GBM to be the best. If you try other things outside of GBM, process the data accordingly to get a good range.Your output should be in the format:\n",
    "\n",
    "| ticker | quarter_year  | log_revenue_prediction | CAR_prediction |\n",
    "|--------|---------------|------------------------|----------------|\n",
    "| BAC    | Q1 2001       | 123                    | 0.5            |\n",
    "| JPM    | Q1 2001       | 456                    | 0.8            |\n",
    "| WFC    | Q1 2001       | 789                    | 0.25           |\n",
    "\n",
    "Enjoy!"
   ]
  },
  {
   "cell_type": "code",
   "execution_count": null,
   "id": "5e070bee",
   "metadata": {
    "vscode": {
     "languageId": "plaintext"
    }
   },
   "outputs": [],
   "source": []
  }
 ],
 "metadata": {
  "language_info": {
   "name": "python"
  }
 },
 "nbformat": 4,
 "nbformat_minor": 5
}
