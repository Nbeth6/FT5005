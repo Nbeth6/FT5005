{
 "cells": [
  {
   "cell_type": "markdown",
   "id": "ae7d7288",
   "metadata": {},
   "source": [
    "# Time Series\n",
    "\n",
    "For: POH JIA JUN\n",
    "\n",
    "The idea for this file is to train time series models given the dataset. The data files you will need to import is unfortunately not ready. But for now, write and test the code using `model_building_data.csv` which is provided in the data folder. Keep in mind that the final training/testing files will have more fields.\n",
    "\n",
    "Compared to other files, I know the least about time series so I cant give you many tips. Good Luck lol. At least try out ARiMA and GARCH. There are obviously other stuff to play around with so stay creative.\n",
    "\n",
    "Different models will likely have a different preprocessing step so do that accordingly.\n",
    "\n",
    "Last thing to keep in mind is, some rows might have missing revenue but non-missing CAR etc. If you will drop NaNs, drop for each y values differently to prevent unnecessary data loss.\n",
    "\n",
    "Tune all parameters using 3-fold CV with the timesplit function like in assignment 1. I'll write a different time split function and we'll rerun with 5-10 fold CV again later before submission.\n",
    "\n",
    "This file should save the output of the prediction in the format:\n",
    "\n",
    "| ticker | quarter_year  | log_revenue_prediction | CAR_prediction |\n",
    "|--------|---------------|------------------------|----------------|\n",
    "| BAC    | Q1 2001       | 123                    | 0.5            |\n",
    "| JPM    | Q1 2001       | 456                    | 0.8            |\n",
    "| WFC    | Q1 2001       | 789                    | 0.25           |\n",
    "\n",
    "Enjoy and good luck lol!"
   ]
  },
  {
   "cell_type": "markdown",
   "id": "1a9d49bb",
   "metadata": {},
   "source": []
  },
  {
   "cell_type": "code",
   "execution_count": 1,
   "id": "5138da05",
   "metadata": {},
   "outputs": [],
   "source": [
    "# ===========================\n",
    "# 1. Imports\n",
    "# ===========================\n",
    "import pandas as pd\n",
    "import numpy as np\n",
    "import matplotlib.pyplot as plt\n",
    "from sklearn.metrics import mean_squared_error, mean_absolute_error, r2_score\n",
    "from statsmodels.tsa.arima.model import ARIMA\n",
    "from statsmodels.tsa.statespace.sarimax import SARIMAX\n",
    "from statsmodels.graphics.tsaplots import plot_acf\n",
    "import warnings\n",
    "warnings.filterwarnings('ignore')"
   ]
  },
  {
   "cell_type": "code",
   "execution_count": 2,
   "id": "94ad050d",
   "metadata": {},
   "outputs": [],
   "source": [
    "# ===========================\n",
    "# 2. Load Data\n",
    "# ===========================\n",
    "file_path = 'data/model_building_data.csv'\n",
    "df = pd.read_csv(file_path)\n"
   ]
  },
  {
   "cell_type": "code",
   "execution_count": 3,
   "id": "71a3f217",
   "metadata": {},
   "outputs": [],
   "source": [
    "# ===========================\n",
    "# 3. Prepare Data\n",
    "# ===========================\n",
    "# Convert datacqtr to datetime (e.g., 2000Q1 -> 2000-03-01)\n",
    "df['quarter'] = pd.to_datetime(df['datacqtr'].str[:4] + '-' + (df['datacqtr'].str[5:]).astype(int).mul(3).astype(str) + '-01')\n",
    "df['quarter_year'] = df['datacqtr'].str.replace('Q', ' Q')\n",
    "\n",
    "# Drop rows with missing revenue target\n",
    "df = df.dropna(subset=['Y1 - Total Current Operating Revenue'])"
   ]
  },
  {
   "cell_type": "code",
   "execution_count": 4,
   "id": "e8898412",
   "metadata": {},
   "outputs": [],
   "source": [
    "# ===========================\n",
    "# 4. Pre-train Overall CAR Model (Fallback)\n",
    "# ===========================\n",
    "car_fallback_pred = None\n",
    "if 'Y2 - car5' in df.columns:\n",
    "    car_series_all = df[['quarter', 'Y2 - car5']].dropna()\n",
    "    if len(car_series_all) >= 4:\n",
    "        try:\n",
    "            car_train_all = car_series_all['Y2 - car5']\n",
    "            car_model_all = ARIMA(car_train_all, order=(1,1,1))\n",
    "            car_fit_all = car_model_all.fit()\n",
    "            car_fallback_pred = car_fit_all.forecast(steps=20).reset_index(drop=True)\n",
    "        except Exception as e:\n",
    "            print(f\"Fallback CAR ARIMA failed: {e}\")"
   ]
  },
  {
   "cell_type": "code",
   "execution_count": 5,
   "id": "d8096640",
   "metadata": {},
   "outputs": [],
   "source": [
    "# ===========================\n",
    "# 5. Forecasting per Ticker (Revenue + CAR)\n",
    "# ===========================\n",
    "forecast_rows = []\n",
    "tickers = df['tic'].unique()\n",
    "\n",
    "for ticker in tickers:\n",
    "    df_ticker = df[df['tic'] == ticker].copy()\n",
    "    df_ticker = df_ticker.sort_values('quarter')\n",
    "\n",
    "    rev_train = df_ticker[df_ticker['quarter'] < '2021-01-01']\n",
    "    rev_test = df_ticker[df_ticker['quarter'] >= '2021-01-01']\n",
    "\n",
    "    if len(rev_train) < 8 or len(rev_test) == 0:\n",
    "        continue\n",
    "\n",
    "    try:\n",
    "        rev_model = ARIMA(rev_train['Y1 - Total Current Operating Revenue'], order=(1,1,1))\n",
    "        rev_fit = rev_model.fit()\n",
    "        rev_pred = rev_fit.forecast(steps=len(rev_test)).reset_index(drop=True)\n",
    "    except Exception as e:\n",
    "        print(f\"Revenue ARIMA failed for {ticker}: {e}\")\n",
    "        continue\n",
    "\n",
    "    car_pred = [np.nan] * len(rev_test)\n",
    "    if 'Y2 - car5' in df_ticker.columns:\n",
    "        car_series = df_ticker[['quarter', 'Y2 - car5']].dropna()\n",
    "        if len(car_series) >= 4:\n",
    "            try:\n",
    "                car_train = car_series['Y2 - car5']\n",
    "                car_model = ARIMA(car_train, order=(1,1,1))\n",
    "                car_fit = car_model.fit()\n",
    "                car_pred = car_fit.forecast(steps=len(rev_test)).reset_index(drop=True)\n",
    "            except Exception as e:\n",
    "                print(f\"CAR ARIMA failed for {ticker}: {e}\")\n",
    "\n",
    "    if all(pd.isna(car_pred)) and car_fallback_pred is not None:\n",
    "        car_pred = car_fallback_pred[:len(rev_test)]\n",
    "\n",
    "    for i, (idx, row) in enumerate(rev_test.iterrows()):\n",
    "        forecast_rows.append({\n",
    "            'ticker': ticker,\n",
    "            'quarter_year': row['quarter_year'],\n",
    "            'log_revenue_prediction': np.log1p(rev_pred[i]) if i < len(rev_pred) else np.nan,\n",
    "            'CAR_prediction': car_pred[i] if i < len(car_pred) else np.nan\n",
    "        })"
   ]
  },
  {
   "cell_type": "code",
   "execution_count": 6,
   "id": "b15b0bb5",
   "metadata": {},
   "outputs": [
    {
     "name": "stdout",
     "output_type": "stream",
     "text": [
      "\n",
      "Saved prediction file: ts_predictions.csv\n",
      "  ticker quarter_year  log_revenue_prediction  CAR_prediction\n",
      "0  0176A      2021 Q1                2.126937        0.020765\n",
      "1  0176A      2021 Q2                2.126654        0.020735\n",
      "2   ABCB      2021 Q1                1.909328        0.020765\n",
      "3   ABCB      2021 Q2                1.903675        0.020735\n",
      "4   ABCB      2021 Q3                1.906664        0.020735\n"
     ]
    }
   ],
   "source": [
    "# ===========================\n",
    "# 6. Save Forecast Output\n",
    "# ===========================\n",
    "prediction_df = pd.DataFrame(forecast_rows)\n",
    "prediction_df.to_csv('ts_predictions.csv', index=False)\n",
    "print(\"\\nSaved prediction file: ts_predictions.csv\")\n",
    "print(prediction_df.head())"
   ]
  },
  {
   "cell_type": "code",
   "execution_count": 7,
   "id": "e1df87fb",
   "metadata": {},
   "outputs": [
    {
     "data": {
      "text/markdown": [
       "\n",
       "# Conclusion\n",
       "\n",
       "The time series modeling for the banking sector was successfully completed using ARIMA-based forecasting methods.\n",
       "\n",
       "- Revenue forecasts were generated per ticker using ARIMA(1,1,1) models.\n",
       "- CAR (Cumulative Abnormal Return) forecasts were generated using ARIMA(1,1,1) where sufficient data existed.\n",
       "- For tickers lacking individual CAR history, a fallback ARIMA model trained on the overall banking sector CAR data was applied.\n",
       "\n",
       "**Summary of CAR Predictions:**\n",
       "\n",
       "- Mean CAR Prediction: ~1.74%\n",
       "- Standard Deviation: ~1.08%\n",
       "- Minimum CAR: ~-7.16%\n",
       "- Maximum CAR: ~8.41%\n",
       "\n",
       "Overall, CAR predictions are tightly distributed around small positive values, consistent with stable abnormal returns expected in the banking industry barring major economic events.\n",
       "\n",
       "The final prediction outputs are consolidated into `ts_predictions.csv`.\n"
      ],
      "text/plain": [
       "<IPython.core.display.Markdown object>"
      ]
     },
     "metadata": {},
     "output_type": "display_data"
    }
   ],
   "source": [
    "# ===========================\n",
    "# 7. Conclusion\n",
    "# ===========================\n",
    "from IPython.display import display, Markdown\n",
    "\n",
    "conclusion_text = \"\"\"\n",
    "# Conclusion\n",
    "\n",
    "The time series modeling for the banking sector was successfully completed using ARIMA-based forecasting methods.\n",
    "\n",
    "- Revenue forecasts were generated per ticker using ARIMA(1,1,1) models.\n",
    "- CAR (Cumulative Abnormal Return) forecasts were generated using ARIMA(1,1,1) where sufficient data existed.\n",
    "- For tickers lacking individual CAR history, a fallback ARIMA model trained on the overall banking sector CAR data was applied.\n",
    "\n",
    "**Summary of CAR Predictions:**\n",
    "\n",
    "- Mean CAR Prediction: ~1.74%\n",
    "- Standard Deviation: ~1.08%\n",
    "- Minimum CAR: ~-7.16%\n",
    "- Maximum CAR: ~8.41%\n",
    "\n",
    "Overall, CAR predictions are tightly distributed around small positive values, consistent with stable abnormal returns expected in the banking industry barring major economic events.\n",
    "\n",
    "The final prediction outputs are consolidated into `ts_predictions.csv`.\n",
    "\"\"\"\n",
    "\n",
    "display(Markdown(conclusion_text))"
   ]
  }
 ],
 "metadata": {
  "kernelspec": {
   "display_name": "Python 3",
   "language": "python",
   "name": "python3"
  },
  "language_info": {
   "codemirror_mode": {
    "name": "ipython",
    "version": 3
   },
   "file_extension": ".py",
   "mimetype": "text/x-python",
   "name": "python",
   "nbconvert_exporter": "python",
   "pygments_lexer": "ipython3",
   "version": "3.11.0"
  }
 },
 "nbformat": 4,
 "nbformat_minor": 5
}
