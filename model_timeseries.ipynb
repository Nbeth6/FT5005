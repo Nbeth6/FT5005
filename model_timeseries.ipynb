{
 "cells": [
  {
   "cell_type": "markdown",
   "id": "ae7d7288",
   "metadata": {},
   "source": [
    "# Time Series\n",
    "\n",
    "For: POH JIA JUN\n",
    "\n",
    "The idea for this file is to train time series models given the dataset. The data files you will need to import is unfortunately not ready. But for now, write and test the code using `model_building_data.csv` which is provided in the data folder. Keep in mind that the final training/testing files will have more fields.\n",
    "\n",
    "Compared to other files, I know the least about time series so I cant give you many tips. Good Luck lol. At least try out ARiMA and GARCH. There are obviously other stuff to play around with so stay creative.\n",
    "\n",
    "Different models will likely have a different preprocessing step so do that accordingly.\n",
    "\n",
    "Last thing to keep in mind is, some rows might have missing revenue but non-missing CAR etc. If you will drop NaNs, drop for each y values differently to prevent unnecessary data loss.\n",
    "\n",
    "Tune all parameters using 3-fold CV with the timesplit function like in assignment 1. I'll write a different time split function and we'll rerun with 5-10 fold CV again later before submission.\n",
    "\n",
    "This file should save the output of the prediction in the format:\n",
    "\n",
    "| ticker | quarter_year  | log_revenue_prediction | CAR_prediction |\n",
    "|--------|---------------|------------------------|----------------|\n",
    "| BAC    | Q1 2001       | 123                    | 0.5            |\n",
    "| JPM    | Q1 2001       | 456                    | 0.8            |\n",
    "| WFC    | Q1 2001       | 789                    | 0.25           |\n",
    "\n",
    "Enjoy and good luck lol!"
   ]
  },
  {
   "cell_type": "markdown",
   "id": "1a9d49bb",
   "metadata": {},
   "source": []
  }
 ],
 "metadata": {
  "language_info": {
   "name": "python"
  }
 },
 "nbformat": 4,
 "nbformat_minor": 5
}
