{
 "cells": [
  {
   "cell_type": "markdown",
   "id": "6624c17e",
   "metadata": {},
   "source": [
    "# News Sentiment\n",
    "\n",
    "For: Tan Cheen Hao!\n",
    "\n",
    "The news are given as different news across all dates with a list of companies in a field. We will need to accumulate this up to a quarter level by company.\n",
    "\n",
    "In the very basic form we basically want the output to be a csv file in the format below. (ideally order by quarter_year then by ticker but doesn't matter). `news_sentiment` should be values between 0 to 1 where the value vaguely represents the probability of a positive sentiment. Or -1 to 1 where -1 is neg and 1 is pos. This depends on you but *make it clear with a markdown at the end.*\n",
    "\n",
    "\n",
    "| ticker | quarter_year  | news_sentiment |\n",
    "|--------|---------------|----------------|\n",
    "| BAC    | Q1 2001       | 0.2            |\n",
    "| JPM    | Q1 2001       | 0.67           |\n",
    "| WFC    | Q1 2001       | 0.97           |\n",
    "\n",
    "\n",
    "Of course some averaging will be needed so to prevent data loss, you could have multiple columns representing upper quartile sentiment, mean sentiment lower quartile sentiment for example. Perhaps news closer to announcement date might affect CAR more than older news so you might take the average of the most recent 3 news before annoucement. These are just some ideas to get you started but its completely up to you. You will need to gauge how to aggregate this up. Ideally, you should have 2 output files; 1 for revenue and 1 for CAR.\n",
    "\n",
    "Now, you could also explore the use of LLMs and prompt engineering to extract specific information from the text first. For example, you could look into using LLMs to extract company specific news vs market news. Both news will affect revenue prediction but the latter should not affect CAR prediction.\n",
    "\n",
    "Be creative!"
   ]
  },
  {
   "cell_type": "code",
   "execution_count": 1,
   "id": "639176a8",
   "metadata": {},
   "outputs": [],
   "source": [
    "import pandas as pd"
   ]
  },
  {
   "cell_type": "code",
   "execution_count": 2,
   "id": "30353cd3",
   "metadata": {},
   "outputs": [],
   "source": [
    "news_data = pd.read_json(\"data/text/news/news.json\")\n",
    "news_data[\"date\"] = pd.to_datetime(news_data[\"date\"])"
   ]
  },
  {
   "cell_type": "code",
   "execution_count": 3,
   "id": "d9c783db",
   "metadata": {},
   "outputs": [
    {
     "name": "stdout",
     "output_type": "stream",
     "text": [
      "first news date: 1998-06-03 00:00:00\n",
      "last news date: 2025-03-02 00:00:00\n",
      "number of news: 27149\n"
     ]
    }
   ],
   "source": [
    "print(\"first news date:\", news_data[\"date\"].min())\n",
    "print(\"last news date:\", news_data[\"date\"].max())\n",
    "print(\"number of news:\", len(news_data))"
   ]
  },
  {
   "cell_type": "code",
   "execution_count": 4,
   "id": "c88362a3",
   "metadata": {},
   "outputs": [],
   "source": [
    "def text_preprocessing_news(text):\n",
    "    \"\"\"Write the text preprocessing function here. This should work through the `df.apply()` function\"\"\"\n",
    "    return text"
   ]
  },
  {
   "cell_type": "code",
   "execution_count": 5,
   "id": "bd68a903",
   "metadata": {},
   "outputs": [],
   "source": [
    "def sentiment_analysis_news(news_data: pd.DataFrame):\n",
    "    \"\"\"This function should take in the news data and output the final csv file dataframe\"\"\"\n",
    "    output_data = news_data.copy()\n",
    "    return output_data"
   ]
  },
  {
   "cell_type": "code",
   "execution_count": 6,
   "id": "4ddadae3",
   "metadata": {},
   "outputs": [],
   "source": [
    "## save the final output\n",
    "\n",
    "# output_data = sentiment_analysis_news(news_data)\n",
    "# output_data.to_csv(\"output_news_sentiment.csv\", index=False)"
   ]
  }
 ],
 "metadata": {
  "kernelspec": {
   "display_name": "base",
   "language": "python",
   "name": "python3"
  },
  "language_info": {
   "codemirror_mode": {
    "name": "ipython",
    "version": 3
   },
   "file_extension": ".py",
   "mimetype": "text/x-python",
   "name": "python",
   "nbconvert_exporter": "python",
   "pygments_lexer": "ipython3",
   "version": "3.11.3"
  }
 },
 "nbformat": 4,
 "nbformat_minor": 5
}
