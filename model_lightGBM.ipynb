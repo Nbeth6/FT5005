{
 "cells": [
  {
   "cell_type": "markdown",
   "id": "00f19cfd",
   "metadata": {},
   "source": [
    "# LightGBM\n",
    "\n",
    "For: NEIL HEINRICH BRAUN\n",
    "\n",
    "The idea for this file is to train a lightGBM model given the dataset. The data files you will need to import is unfortunately not ready. But for now, write and test the code using `model_building_data.csv` which is provided in the data folder. Keep in mind that the final training/testing files will have more fields.\n",
    "\n",
    "Great thing about LightGBM is it can handle missing data as is. Also, LightGBM can also handle data with weird ranges better than compared to neural network based models or even models like SVM regressor. So in practice, you dont need to do much processing because the data file should already have appropriate data for you to use.\n",
    "\n",
    "Of course this does not mean you should not do any processing at all. In fact, you should explore dimension reduction techniques and do feature selection where appropriate. Also, some columns might have too many NaNs and should be remove entirely.\n",
    "\n",
    "Furthermore, LightGBM is *not* a timeseries model. Therefore, you should engineer lagged variables for prediction as well.\n",
    "\n",
    "Last thing to keep in mind is, some rows might have missing revenue but non-missing CAR etc. If you will drop NaNs, drop for each y values differently to prevent unnecessary data loss.\n",
    "\n",
    "Tune all parameters using 3-fold CV with the timesplit function like in assignment 1. I'll write a different time split function and we'll rerun with 5-10 fold CV again later before submission.\n",
    "\n",
    "This file should save the output of the prediction in the format:\n",
    "\n",
    "| ticker | quarter_year  | log_revenue_prediction | CAR_prediction |\n",
    "|--------|---------------|------------------------|----------------|\n",
    "| BAC    | Q1 2001       | 123                    | 0.5            |\n",
    "| JPM    | Q1 2001       | 456                    | 0.8            |\n",
    "| WFC    | Q1 2001       | 789                    | 0.25           |\n",
    "\n",
    "Enjoy!"
   ]
  },
  {
   "cell_type": "code",
   "execution_count": null,
   "id": "adc986da",
   "metadata": {},
   "outputs": [],
   "source": []
  }
 ],
 "metadata": {
  "language_info": {
   "name": "python"
  }
 },
 "nbformat": 4,
 "nbformat_minor": 5
}
